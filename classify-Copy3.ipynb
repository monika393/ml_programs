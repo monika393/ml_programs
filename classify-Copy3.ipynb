{
 "cells": [
  {
   "cell_type": "code",
   "execution_count": null,
   "metadata": {},
   "outputs": [],
   "source": [
    "from sklearn.linear_model import LogisticRegression\n",
    "from sklearn.preprocessing import OneHotEncoder\n",
    "import sklearn.metrics as metrics\n",
    "import pandas as pd\n",
    "import numpy as np\n",
    "from sklearn.preprocessing import OneHotEncoder\n",
    "from sklearn.linear_model import LogisticRegression\n",
    "from sklearn import *\n",
    "from sklearn.ensemble import RandomForestClassifier\n",
    "from sklearn.datasets import make_classification\n",
    "from sklearn.metrics import accuracy_score, confusion_matrix, precision_score, recall_score\n",
    "from pandas_profiling import ProfileReport\n",
    "\n",
    "from sklearn.preprocessing import LabelBinarizer\n",
    "from sklearn.preprocessing import LabelEncoder\n",
    "from sklearn.metrics import classification_report\n",
    "from sklearn import preprocessing\n",
    "import matplotlib.pyplot as plt\n",
    "from sklearn.model_selection import GridSearchCV, RandomizedSearchCV\n"
   ]
  },
  {
   "cell_type": "code",
   "execution_count": null,
   "metadata": {},
   "outputs": [],
   "source": [
    "#Installing via pip pandas profilinng\n",
    "!pip install -U pandas-profiling"
   ]
  },
  {
   "cell_type": "code",
   "execution_count": null,
   "metadata": {},
   "outputs": [],
   "source": [
    "#Read Train and Test Data \n",
    "\n",
    "data_train = pd.read_csv(\"data_train.csv\")\n",
    "data_test = pd.read_csv(\"data_test.csv\")\n",
    "data_train.head()"
   ]
  },
  {
   "cell_type": "code",
   "execution_count": null,
   "metadata": {},
   "outputs": [],
   "source": [
    "# Pre-Processing data \n",
    "# One hot encode all categorical columns\n",
    "\n",
    "\n"
   ]
  },
  {
   "cell_type": "code",
   "execution_count": null,
   "metadata": {},
   "outputs": [],
   "source": [
    "one_hot_cols=[\"if_marital\",\"if_default\",\"if_housing\",\"if_loan\",\"if_active_selling\", \"occupation_cleaner\",\n",
    "              \"occupation_management\",\"occupation_own-business\",\"occupation_production\",\"occupation_retired\",\n",
    "              \"occupation_services\",\"occupation_student\",\"occupation_technician\",\"occupation_unemployed\",\n",
    "              \"education_primary\",\"education_secondary\",\"education_unknown\"]\n",
    "\n",
    "\n",
    "data_train[one_hot_cols] = data_train[one_hot_cols].apply(LabelEncoder().fit_transform)\n",
    "print(data_train.head())\n",
    "\n",
    "data_test[one_hot_cols] = data_test[one_hot_cols].apply(LabelEncoder().fit_transform)\n",
    "print(data_test.head())\n",
    "\n",
    "#data_train=pd.get_dummies(data_train, columns=one_hot_cols)\n",
    "#data_test=pd.get_dummies(data_test, columns=one_hot_cols)\n",
    "\n",
    "\n",
    "\n",
    "\n"
   ]
  },
  {
   "cell_type": "code",
   "execution_count": null,
   "metadata": {},
   "outputs": [],
   "source": [
    "# Use Pandas profiling to see feature stats for train\n",
    "profile = ProfileReport(data_train, title='MPG Pandas Profiling Report', explorative = True)\n",
    "profile"
   ]
  },
  {
   "cell_type": "code",
   "execution_count": null,
   "metadata": {},
   "outputs": [],
   "source": [
    "# Use Pandas profiling to see feature stats for test\n",
    "profile_test = ProfileReport(data_test, title='MPG Pandas Profiling Report', explorative = True)\n",
    "profile_test"
   ]
  },
  {
   "cell_type": "code",
   "execution_count": null,
   "metadata": {},
   "outputs": [],
   "source": [
    "X_train= data_train.loc[:, data_train.columns != 'label']\n",
    "Y_train=data_train['label']\n",
    "print(X_train.head())\n",
    "print(Y_train)\n",
    "X_test= data_test.loc[:, data_test.columns != 'label']\n",
    "Y_test=data_test['label']"
   ]
  },
  {
   "cell_type": "code",
   "execution_count": null,
   "metadata": {},
   "outputs": [],
   "source": [
    "# Pre-procesing train columns\n",
    "scaler = preprocessing.MinMaxScaler(feature_range=(0, 1))\n",
    "names = X_train.columns\n",
    "d = scaler.fit_transform(X_train)\n",
    "X_train = pd.DataFrame(d, columns=names)\n",
    "print(X_train.head())\n",
    "\n",
    "\n",
    "names = X_test.columns\n",
    "d = scaler.fit_transform(X_test)\n",
    "X_test = pd.DataFrame(d, columns=names)\n",
    "print(X_test.head())"
   ]
  },
  {
   "cell_type": "code",
   "execution_count": null,
   "metadata": {},
   "outputs": [],
   "source": [
    "print(Y_train.value_counts(normalize=True))\n",
    "class_wt_zero= Y_train.value_counts(normalize=True)[0]\n",
    "print(class_wt_zero)\n",
    "print(Y_test.value_counts(normalize=True))\n",
    "class_wt_one= Y_train.value_counts(normalize=True)[1]\n",
    "\n",
    "clf = LogisticRegression(random_state=0, max_iter =50,class_weight={0.0:class_wt_zero,1.0:class_wt_one}).fit(X_train, Y_train)\n",
    "Y_pred=clf.predict(X_test)\n",
    "recall_score(Y_test, Y_pred)\n",
    "print(classification_report(Y_test, Y_pred, labels=[0,1]))\n",
    "\n",
    "\n",
    "\n"
   ]
  },
  {
   "cell_type": "code",
   "execution_count": null,
   "metadata": {},
   "outputs": [],
   "source": []
  },
  {
   "cell_type": "code",
   "execution_count": null,
   "metadata": {},
   "outputs": [],
   "source": [
    "\n",
    "ran = RandomForestClassifier(max_depth=2, random_state=0, n_estimators=30,class_weight={0:class_wt_zero,1:class_wt_one} )\n",
    "ran.fit(X_train, Y_train)\n",
    "Y_pred=ran.predict(X_test)\n",
    "recall_score(Y_test,Y_pred, zero_division=0)\n",
    "importances = ran.feature_importances_\n",
    "print(importances)\n",
    "print(classification_report(Y_test, Y_pred, labels=[0,1]))\n",
    "# summarize feature importance\n",
    "for name, importance in zip(X_train, ran.feature_importances_):\n",
    "    print(name, \"=\", importance)\n"
   ]
  },
  {
   "cell_type": "code",
   "execution_count": null,
   "metadata": {},
   "outputs": [],
   "source": [
    "%matplotlib inline\n",
    "\n",
    "# Figure Size\n",
    "fig, ax = plt.subplots(figsize =(16, 9))\n",
    " \n",
    "# Horizontal Bar Plot\n",
    "ax.barh( X_train.columns, ran.feature_importances_)\n",
    " \n",
    "# Remove axes splines\n",
    "for s in ['top', 'bottom', 'left', 'right']:\n",
    "    ax.spines[s].set_visible(False)\n",
    " \n",
    "# Remove x, y Ticks\n",
    "ax.xaxis.set_ticks_position('none')\n",
    "ax.yaxis.set_ticks_position('none')\n",
    " \n",
    "# Add padding between axes and labels\n",
    "ax.xaxis.set_tick_params(pad = 5)\n",
    "ax.yaxis.set_tick_params(pad = 10)\n",
    " \n",
    "# Add x, y gridlines\n",
    "ax.grid(b = True, color ='grey',\n",
    "        linestyle ='-.', linewidth = 0.5,\n",
    "        alpha = 0.2)\n",
    " \n",
    "# Show top values\n",
    "ax.invert_yaxis()\n",
    " \n",
    "# Add annotation to bars\n",
    "for i in ax.patches:\n",
    "    plt.text(i.get_width()+0.2, i.get_y()+0.5,\n",
    "             str(round((i.get_width()), 2)),\n",
    "             fontsize = 10, fontweight ='bold',\n",
    "             color ='grey')\n",
    " \n",
    "# Add Plot Title\n",
    "ax.set_title('Sports car and their price in crore',\n",
    "             loc ='left', )\n",
    " \n",
    "# Add Text watermark\n",
    "fig.text(0.9, 0.15, 'Feature Importance', fontsize = 12,\n",
    "         color ='grey', ha ='right', va ='bottom',\n",
    "         alpha = 0.7)\n",
    " \n",
    "# Show Plot\n",
    "plt.show()"
   ]
  },
  {
   "cell_type": "code",
   "execution_count": null,
   "metadata": {},
   "outputs": [],
   "source": []
  },
  {
   "cell_type": "code",
   "execution_count": null,
   "metadata": {},
   "outputs": [],
   "source": [
    "#Grid Search CV on Tree algorithm\n",
    "\n",
    "rfc=RandomForestClassifier(random_state=42)\n",
    "\n",
    "param_grid = { \n",
    "    'n_estimators': [200, 500],\n",
    "    'max_features': ['auto', 'sqrt', 'log2'],\n",
    "    'max_depth' : [4,5,6,7,8],\n",
    "    'criterion' :['gini', 'entropy']\n",
    "}\n",
    "\n",
    "CV_rfc = GridSearchCV(estimator=rfc, param_grid=param_grid, cv= 5)\n",
    "CV_rfc.fit(X_train, Y_train)\n",
    "\n",
    "print(CV_rfc.best_params_)\n",
    "\n",
    "#{'criterion': 'gini', 'max_depth': 7, 'max_features': 'auto', 'n_estimators': 500}\n"
   ]
  },
  {
   "cell_type": "code",
   "execution_count": null,
   "metadata": {},
   "outputs": [],
   "source": [
    "\n",
    "ran = RandomForestClassifier(max_depth=7, random_state=0, criterion='gini', max_features='auto', n_estimators=500)\n",
    "ran.fit(X_train, Y_train)\n",
    "Y_pred=ran.predict(X_test)\n",
    "recall_score(Y_test,Y_pred, zero_division=0)\n",
    "importances = ran.feature_importances_\n",
    "print(importances)\n",
    "print(classification_report(Y_test, Y_pred, labels=[0,1]))\n",
    "# summarize feature importance\n",
    "for name, importance in zip(X_train, ran.feature_importances_):\n",
    "    print(name, \"=\", importance)\n"
   ]
  },
  {
   "cell_type": "code",
   "execution_count": null,
   "metadata": {
    "scrolled": false
   },
   "outputs": [],
   "source": [
    "# Random Search CV\n",
    "from scipy.stats import randint as sp_randint\n",
    "\n",
    "param_dist = {\"max_depth\": [3, None],\n",
    "              \"max_features\": sp_randint(1, 11),\n",
    "              \"min_samples_leaf\": sp_randint(1, 11),\n",
    "              \"bootstrap\": [True, False],\n",
    "              \"criterion\": [\"gini\", \"entropy\"]}\n",
    "\n",
    "# run randomized search\n",
    "n_iter_search = 20\n",
    "random_search = RandomizedSearchCV(ran, param_distributions=param_dist,\n",
    "                                   n_iter=n_iter_search)\n",
    "\n",
    "random_search.fit(X_train, Y_train)\n",
    "\n",
    "print(random_search.best_params_)\n"
   ]
  },
  {
   "cell_type": "code",
   "execution_count": null,
   "metadata": {},
   "outputs": [],
   "source": []
  },
  {
   "cell_type": "code",
   "execution_count": null,
   "metadata": {},
   "outputs": [],
   "source": []
  },
  {
   "cell_type": "code",
   "execution_count": null,
   "metadata": {},
   "outputs": [],
   "source": []
  }
 ],
 "metadata": {
  "kernelspec": {
   "display_name": "Python 3",
   "language": "python",
   "name": "python3"
  },
  "language_info": {
   "codemirror_mode": {
    "name": "ipython",
    "version": 3
   },
   "file_extension": ".py",
   "mimetype": "text/x-python",
   "name": "python",
   "nbconvert_exporter": "python",
   "pygments_lexer": "ipython3",
   "version": "3.8.5"
  }
 },
 "nbformat": 4,
 "nbformat_minor": 4
}
